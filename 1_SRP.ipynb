{
 "cells": [
  {
   "cell_type": "markdown",
   "metadata": {},
   "source": [
    "## Single responsability principle (SRP)\n",
    "\n",
    "A class should have only one responsability.  If a class has more than one,\n",
    "it becomes coupled and a change to one responsibility results to a modification of\n",
    "the other responsibility."
   ]
  },
  {
   "cell_type": "markdown",
   "metadata": {},
   "source": [
    "### Bad example:"
   ]
  },
  {
   "cell_type": "code",
   "execution_count": null,
   "metadata": {},
   "outputs": [],
   "source": [
    "class Animal:\n",
    "    def __init__(self, name: str):\n",
    "        self.name = name\n",
    "    \n",
    "    def get_name(self) -> str:\n",
    "        return self.name\n",
    "\n",
    "    def save(self, animal):\n",
    "        pass"
   ]
  },
  {
   "cell_type": "markdown",
   "metadata": {},
   "source": [
    "Single responsability states that classes should have one responsibility, but here we can distinguish\n",
    "two responsibilities: animal database management (save method) and animal properties management (constructor and get_name)."
   ]
  },
  {
   "cell_type": "markdown",
   "metadata": {},
   "source": [
    "### Better solution:\n",
    "Separating responsabilities"
   ]
  },
  {
   "cell_type": "code",
   "execution_count": null,
   "metadata": {},
   "outputs": [],
   "source": [
    "class Animal: \n",
    "    def __init__(self, name: str):\n",
    "        self.name = name\n",
    "    \n",
    "    def get_name(self) -> str:\n",
    "        return self.name\n",
    "\n",
    "\n",
    "class AnimalDB: \n",
    "    def get_animal(self, id) -> Animal:\n",
    "        pass\n",
    "\n",
    "    def save(self, animal: Animal):\n",
    "        pass"
   ]
  },
  {
   "cell_type": "markdown",
   "metadata": {},
   "source": [
    "The downside to this implementation is that now we'll have to deal with two classes when initializing"
   ]
  },
  {
   "cell_type": "markdown",
   "metadata": {},
   "source": [
    "### Good solution:\n",
    "Using the \"facade\" design pattern and making the Animal class a facade for AnimalDB. Here the animal class will be at the same time an interface for AnimalDB."
   ]
  },
  {
   "cell_type": "code",
   "execution_count": null,
   "metadata": {},
   "outputs": [],
   "source": [
    "class AnimalDB:  \n",
    "    def get_animal(self, id) -> Animal:\n",
    "        pass\n",
    "\n",
    "    def save(self, animal: Animal):\n",
    "        pass\n",
    "\n",
    "\n",
    "class Animal:\n",
    "    def __init__(self, name: str):\n",
    "        self.name = name\n",
    "        self.db = AnimalDB()\n",
    "\n",
    "    def get_name(self) -> str:\n",
    "        return self.name\n",
    "\n",
    "    def get(self, id):\n",
    "        return self.db.get_animal(id)\n",
    "    \n",
    "    def save(self):\n",
    "        self.db.save(animal=self)"
   ]
  }
 ],
 "metadata": {
  "kernelspec": {
   "display_name": "Python 3.9.12 ('base')",
   "language": "python",
   "name": "python3"
  },
  "language_info": {
   "name": "python",
   "version": "3.9.12"
  },
  "orig_nbformat": 4,
  "vscode": {
   "interpreter": {
    "hash": "42c33f466a168730b22cefda1447d659631163f2e3796842da191639660330f9"
   }
  }
 },
 "nbformat": 4,
 "nbformat_minor": 2
}
