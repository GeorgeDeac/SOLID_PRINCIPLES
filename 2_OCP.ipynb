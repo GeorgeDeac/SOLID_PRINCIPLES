{
 "cells": [
  {
   "cell_type": "markdown",
   "metadata": {},
   "source": [
    "## Open closed principle (OCP)\n",
    "Classes should be designed to be open for extension, instead of modification."
   ]
  },
  {
   "cell_type": "markdown",
   "metadata": {},
   "source": [
    "### Bad example:"
   ]
  },
  {
   "cell_type": "code",
   "execution_count": null,
   "metadata": {},
   "outputs": [],
   "source": [
    "class Animal: \n",
    "    def __init__(self, name: str):\n",
    "        self.name = name\n",
    "    \n",
    "    def get_name(self) -> str:\n",
    "        return self.name\n",
    "\n",
    "\n",
    "def animal_sound(animals: list):\n",
    "    for animal in animals:\n",
    "        if animal.name == \"lion\":\n",
    "            print(\"Roar!\")\n",
    "        elif animal.name == \"mouse\":\n",
    "            print(\"Squeak!\")\n",
    "\n",
    "animals = [\n",
    "    Animal('lion'),\n",
    "    Animal('mouse')\n",
    "]\n",
    "\n",
    "animal_sound(animals)"
   ]
  },
  {
   "cell_type": "markdown",
   "metadata": {},
   "source": [
    "The function animal_sound() does not conform to the Open closed principle because\n",
    "it cannot be closed against newly implemented kinds of animals: if we add a new animal, \n",
    "we have to also modify the animal_sound function."
   ]
  },
  {
   "cell_type": "markdown",
   "metadata": {},
   "source": [
    "### Good example:"
   ]
  },
  {
   "cell_type": "code",
   "execution_count": null,
   "metadata": {},
   "outputs": [],
   "source": [
    "class Animal:\n",
    "    def __init__(self, name: str):\n",
    "        self.name = name\n",
    "    \n",
    "    def get_name(self) -> str:\n",
    "        return self.name\n",
    "\n",
    "    def make_sound(self):\n",
    "        pass\n",
    "\n",
    "\n",
    "class Lion(Animal):\n",
    "    def make_sound(self):\n",
    "        return \"Roar\"\n",
    "\n",
    "\n",
    "class Mouse(Animal):\n",
    "    def make_sound(self):\n",
    "        return \"Squeak\"\n",
    "\n",
    "\n",
    "class Pigeon(Animal):\n",
    "    def make_sound(self):\n",
    "        return \"Acoo\"\n",
    "\n",
    "def animal_sound(animals: list):\n",
    "    for animal in animals:\n",
    "        print(animal.make_sound())"
   ]
  },
  {
   "cell_type": "markdown",
   "metadata": {},
   "source": [
    "We attribute a virtual method to Animal for making sounds and make each new animal a separate class which inherits from Animal and implements make_sound"
   ]
  }
 ],
 "metadata": {
  "language_info": {
   "name": "python"
  },
  "orig_nbformat": 4
 },
 "nbformat": 4,
 "nbformat_minor": 2
}
