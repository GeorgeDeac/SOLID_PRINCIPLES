{
 "cells": [
  {
   "cell_type": "markdown",
   "metadata": {},
   "source": [
    "## Open closed principle (OCP)\n",
    "Classes should be designed to be open for extension, instead of modification."
   ]
  },
  {
   "cell_type": "markdown",
   "metadata": {},
   "source": [
    "### Bad example:"
   ]
  },
  {
   "cell_type": "code",
   "execution_count": null,
   "metadata": {},
   "outputs": [],
   "source": [
    "class Animal: \n",
    "    def __init__(self, name: str):\n",
    "        self.name = name\n",
    "    \n",
    "    def get_name(self) -> str:\n",
    "        return self.name\n",
    "\n",
    "\n",
    "def animal_sound(animals: list):\n",
    "    for animal in animals:\n",
    "        if animal.name == \"lion\":\n",
    "            print(\"Roar!\")\n",
    "        elif animal.name == \"mouse\":\n",
    "            print(\"Squeak!\")\n",
    "\n",
    "animals = [\n",
    "    Animal(\"lion\"),\n",
    "    Animal(\"mouse\")\n",
    "]\n",
    "\n",
    "animal_sound(animals)"
   ]
  },
  {
   "cell_type": "markdown",
   "metadata": {},
   "source": [
    "The function animal_sound() does not conform to the Open closed principle because\n",
    "it cannot be closed against newly implemented kinds of animals: if we add a new animal, \n",
    "we have to also modify the animal_sound function."
   ]
  },
  {
   "cell_type": "markdown",
   "metadata": {},
   "source": [
    "### Good example:"
   ]
  },
  {
   "cell_type": "code",
   "execution_count": null,
   "metadata": {},
   "outputs": [],
   "source": [
    "class Animal:\n",
    "    def __init__(self, name: str):\n",
    "        self.name = name\n",
    "    \n",
    "    def get_name(self) -> str:\n",
    "        return self.name\n",
    "\n",
    "    def make_sound(self):\n",
    "        pass\n",
    "\n",
    "\n",
    "class Lion(Animal):\n",
    "    def make_sound(self):\n",
    "        return \"Roar\"\n",
    "\n",
    "\n",
    "class Mouse(Animal):\n",
    "    def make_sound(self):\n",
    "        return \"Squeak\"\n",
    "\n",
    "\n",
    "class Pigeon(Animal):\n",
    "    def make_sound(self):\n",
    "        return \"Acoo\"\n",
    "\n",
    "def animal_sound(animals: list):\n",
    "    for animal in animals:\n",
    "        print(animal.make_sound())\n",
    "\n",
    "animals = [\n",
    "    Animal(\"lion\"),\n",
    "    Animal(\"mouse\")\n",
    "]\n",
    "      \n",
    "animal_sound(animals)"
   ]
  },
  {
   "cell_type": "markdown",
   "metadata": {},
   "source": [
    "We attribute a virtual method to Animal for making sounds and make each new animal a separate class which inherits from Animal and implements make_sound"
   ]
  },
  {
   "cell_type": "markdown",
   "metadata": {},
   "source": [
    "### Bad example"
   ]
  },
  {
   "cell_type": "code",
   "execution_count": null,
   "metadata": {},
   "outputs": [],
   "source": [
    "class Employee:\n",
    "    def __init__(self, name: str, salary):\n",
    "        self.name = name\n",
    "        self.salary = salary\n",
    "\n",
    "    \n",
    "class Tester(Employee): \n",
    "    def __init__(self, name: str, salary):\n",
    "        super().__init__(name, salary)\n",
    "    \n",
    "    def test(self):\n",
    "        print(\"{} is testing\".format(self.name))\n",
    "\n",
    "\n",
    "class Developer(Employee):\n",
    "    def __init__(self, name: str, salary):\n",
    "        super().__init__(name, salary)\n",
    "    \n",
    "    def develop(self):\n",
    "        print(\"{} is developing\".format(self.name))\n",
    "\n",
    "\n",
    "class Company:\n",
    "    def __init__(self, name: str):\n",
    "        self.name = name\n",
    "    \n",
    "    def work(self, employee):\n",
    "        if isinstance(employee, Developer):\n",
    "            employee.develop()\n",
    "        elif isinstance(employee, Tester):\n",
    "            employee.test()\n",
    "        else:\n",
    "            raise Exception(\"Unknown employee\")"
   ]
  },
  {
   "cell_type": "markdown",
   "metadata": {},
   "source": [
    "### Good example"
   ]
  },
  {
   "cell_type": "code",
   "execution_count": null,
   "metadata": {},
   "outputs": [],
   "source": [
    "from abc import ABC, abstractmethod\n",
    "\n",
    "class Employee(ABC):\n",
    "    def __init__(self, name: str, salary):\n",
    "        self.name = name\n",
    "        self.salary = salary\n",
    "\n",
    "    @abstractmethod\n",
    "    def work(self):\n",
    "        pass\n",
    "\n",
    "\n",
    "class Tester(Employee):\n",
    "    def __init__(self, name: str, salary):\n",
    "        super().__init__(name, salary)\n",
    "\n",
    "    def test(self):\n",
    "        print(\"{} is testing\".format(self.name))\n",
    "\n",
    "    def work(self):\n",
    "        self.test()\n",
    "\n",
    "\n",
    "class Developer(Employee):\n",
    "    def __init__(self, name: str, salary):\n",
    "        super().__init__(name, salary)\n",
    "\n",
    "    def develop(self):\n",
    "        print(\"{} is developing\".format(self.name))\n",
    "\n",
    "    def work(self):\n",
    "        self.develop()\n",
    "\n",
    "\n",
    "class Company:\n",
    "    def __init__(self, name: str):\n",
    "        self.name = name\n",
    "\n",
    "    def work(self, employee: Employee):\n",
    "        employee.work()\n",
    "        \n",
    "cohernet = Company(\"CoherNet\")\n",
    "senpai = Developer(\"Senpai\", 1000000)\n",
    "cohernet.work(senpai)"
   ]
  }
 ],
 "metadata": {
  "kernelspec": {
   "display_name": "Python 3.9.12 ('base')",
   "language": "python",
   "name": "python3"
  },
  "language_info": {
   "codemirror_mode": {
    "name": "ipython",
    "version": 3
   },
   "file_extension": ".py",
   "mimetype": "text/x-python",
   "name": "python",
   "nbconvert_exporter": "python",
   "pygments_lexer": "ipython3",
   "version": "3.9.12"
  },
  "orig_nbformat": 4,
  "vscode": {
   "interpreter": {
    "hash": "42c33f466a168730b22cefda1447d659631163f2e3796842da191639660330f9"
   }
  }
 },
 "nbformat": 4,
 "nbformat_minor": 2
}
