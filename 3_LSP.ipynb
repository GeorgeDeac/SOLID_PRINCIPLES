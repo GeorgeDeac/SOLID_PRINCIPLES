{
 "cells": [
  {
   "cell_type": "markdown",
   "metadata": {},
   "source": [
    "## Liskov substitution principle (LSP)\n",
    "A sub class must be substitutable for its super class. \n",
    "A sub class must assume the place of its super class without errors.\n",
    "(For instance we should never have to safety check if a class isinstance)"
   ]
  },
  {
   "cell_type": "markdown",
   "metadata": {},
   "source": [
    "### Bad example:"
   ]
  },
  {
   "cell_type": "code",
   "execution_count": null,
   "metadata": {},
   "outputs": [],
   "source": [
    "class Animal:\n",
    "    def __init__(self, name: str):\n",
    "        self.name = name\n",
    "    \n",
    "    def get_name(self) -> str:\n",
    "        return self.name\n",
    "\n",
    "    def make_sound(self):\n",
    "        pass\n",
    "\n",
    "class Lion(Animal):\n",
    "    def make_sound(self):\n",
    "        return \"Roar\"\n",
    "\n",
    "\n",
    "class Mouse(Animal):\n",
    "    def make_sound(self):\n",
    "        return \"Squeak\"\n",
    "\n",
    "\n",
    "class Pigeon(Animal):\n",
    "    def make_sound(self):\n",
    "        return \"Acoo\"\n",
    "\n",
    "\n",
    "def lion_leg_count(animal):\n",
    "    return 4\n",
    "\n",
    "def mouse_leg_count(animal):\n",
    "    return 4\n",
    "\n",
    "def pigeon_leg_count(animal):\n",
    "    return 2\n",
    "\n",
    "\n",
    "def animal_leg_count(animals: list):\n",
    "    for animal in animals:\n",
    "        if isinstance(animal, Lion):\n",
    "            print(lion_leg_count(animal))\n",
    "        elif isinstance(animal, Mouse):\n",
    "            print(mouse_leg_count(animal))\n",
    "        elif isinstance(animal, Pigeon):\n",
    "            print(pigeon_leg_count(animal))\n",
    "            \n",
    "animals = [\n",
    "    Lion(\"lion\"),\n",
    "    Mouse(\"mouse\"),\n",
    "    Pigeon(\"pigeon\")\n",
    "]\n",
    "   \n",
    "animal_leg_count(animals)"
   ]
  },
  {
   "cell_type": "markdown",
   "metadata": {},
   "source": [
    "We have separate functions for each animal that don't have insight to what we pass,\n",
    "Therefore we have to separately check for each instance."
   ]
  },
  {
   "cell_type": "markdown",
   "metadata": {},
   "source": [
    "### Good example:"
   ]
  },
  {
   "cell_type": "code",
   "execution_count": null,
   "metadata": {},
   "outputs": [],
   "source": [
    "class Animal:\n",
    "    def __init__(self, name: str):\n",
    "        self.name = name\n",
    "    \n",
    "    def get_name(self) -> str:\n",
    "        return self.name\n",
    "\n",
    "    def make_sound(self):\n",
    "        pass\n",
    "    \n",
    "    def leg_count(self):\n",
    "        pass\n",
    "    \n",
    "\n",
    "class Lion(Animal):\n",
    "    def make_sound(self):\n",
    "        return \"Roar\"\n",
    "    \n",
    "    def leg_count(self):\n",
    "        return 4\n",
    "\n",
    "\n",
    "class Mouse(Animal):\n",
    "    def make_sound(self):\n",
    "        return \"Squeak\"\n",
    "    \n",
    "    def leg_count(self):\n",
    "        return 4\n",
    "\n",
    "\n",
    "class Pigeon(Animal):\n",
    "    def make_sound(self):\n",
    "        return \"Acoo\"\n",
    "\n",
    "    def leg_count(self):\n",
    "        return 2\n",
    "    \n",
    "\n",
    "def animal_leg_count(animals: list):\n",
    "    for animal in animals:\n",
    "        print(animal.leg_count())\n",
    " \n",
    "animals = [\n",
    "    Lion(\"lion\"),\n",
    "    Mouse(\"mouse\"),\n",
    "    Pigeon(\"pigeon\")\n",
    "]\n",
    "      \n",
    "animal_leg_count(animals)"
   ]
  },
  {
   "cell_type": "markdown",
   "metadata": {},
   "source": [
    "The animal_leg_count() function cares less about what type of Animal passed and it just\n",
    "calls the leg_count method of each animal."
   ]
  }
 ],
 "metadata": {
  "language_info": {
   "name": "python"
  },
  "orig_nbformat": 4
 },
 "nbformat": 4,
 "nbformat_minor": 2
}
