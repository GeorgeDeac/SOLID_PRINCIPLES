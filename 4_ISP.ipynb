{
 "cells": [
  {
   "cell_type": "markdown",
   "metadata": {},
   "source": [
    "## Interface segregation principle (ISP)\n",
    "Interfaces should be client specific. Classes should not implement methods they have no use for."
   ]
  },
  {
   "cell_type": "markdown",
   "metadata": {},
   "source": [
    "### Bad example:"
   ]
  },
  {
   "cell_type": "code",
   "execution_count": null,
   "metadata": {},
   "outputs": [],
   "source": [
    "class IShape:\n",
    "    def draw_square(self):\n",
    "        raise NotImplementedError\n",
    "    \n",
    "    def draw_rectangle(self):\n",
    "        raise NotImplementedError\n",
    "    \n",
    "    def draw_circle(self):\n",
    "        raise NotImplementedError\n",
    "\n",
    "\n",
    "class Circle(IShape):\n",
    "    def draw_square(self):\n",
    "        pass\n",
    "\n",
    "    def draw_rectangle(self):\n",
    "        pass\n",
    "    \n",
    "    def draw_circle(self):\n",
    "        pass\n",
    "\n",
    "\n",
    "class Square(IShape):\n",
    "    def draw_square(self):\n",
    "        pass\n",
    "\n",
    "    def draw_rectangle(self):\n",
    "        pass\n",
    "    \n",
    "    def draw_circle(self):\n",
    "        pass\n",
    "\n",
    "\n",
    "class Rectangle(IShape):\n",
    "    def draw_square(self):\n",
    "        pass\n",
    "\n",
    "    def draw_rectangle(self):\n",
    "        pass\n",
    "    \n",
    "    def draw_circle(self):\n",
    "        pass"
   ]
  },
  {
   "cell_type": "markdown",
   "metadata": {},
   "source": [
    "This interface draws squares, circles and rectangles. The classes Circle, Square, Rectangle implement the IShape interface, therefore all must define the methods for drawing the other shapes, which doesn't make sense. \n",
    "Although here it's obvious the interface shouldn't be that way, there could be some more abstract case with big interfaces where this isn't so clear."
   ]
  },
  {
   "cell_type": "markdown",
   "metadata": {},
   "source": [
    "### Good example:"
   ]
  },
  {
   "cell_type": "code",
   "execution_count": null,
   "metadata": {},
   "outputs": [],
   "source": [
    "class IShape:\n",
    "    def draw(self):\n",
    "        raise NotImplementedError\n",
    "\n",
    "class Circle(IShape):\n",
    "    def draw(self):\n",
    "        pass\n",
    "\n",
    "class Square(IShape):\n",
    "    def draw(self):\n",
    "        pass\n",
    "\n",
    "class Rectangle(IShape):\n",
    "    def draw(self):\n",
    "        pass"
   ]
  },
  {
   "cell_type": "markdown",
   "metadata": {},
   "source": [
    "We abstract the draw method, and pass the responsability of holding the information to each class which implements the IShape interface."
   ]
  },
  {
   "cell_type": "markdown",
   "metadata": {},
   "source": [
    "### Bad example"
   ]
  },
  {
   "cell_type": "code",
   "execution_count": null,
   "metadata": {},
   "outputs": [],
   "source": [
    "from abc import ABC, abstractmethod\n",
    "\n",
    "class EventParser(ABC):\n",
    "\t@abstractmethod\n",
    "\tdef from_xml(xml_data: str):\n",
    "\t\tprint(\"Parsing xml\")\n",
    "\t\n",
    "\t@abstractmethod\n",
    "\tdef from_json(json_data: str):\n",
    "\t\tprint(\"Parsing json\")"
   ]
  },
  {
   "cell_type": "markdown",
   "metadata": {},
   "source": [
    "### Good example"
   ]
  },
  {
   "cell_type": "code",
   "execution_count": null,
   "metadata": {},
   "outputs": [],
   "source": [
    "from abc import ABC, abstractmethod\n",
    "\n",
    "class XMLEventParser(ABC):\n",
    "\t@abstractmethod\n",
    "\tdef from_xml(xml_data: str):\n",
    "\t\tprint(\"Parsing xml\")\n",
    "\n",
    "\n",
    "class JSONEventParser(ABC):\n",
    "\t@abstractmethod\n",
    "\tdef from_json(json_data: str):\n",
    "\t\tprint(\"Parsing json\")"
   ]
  }
 ],
 "metadata": {
  "kernelspec": {
   "display_name": "Python 3.9.12 ('base')",
   "language": "python",
   "name": "python3"
  },
  "language_info": {
   "name": "python",
   "version": "3.9.12"
  },
  "orig_nbformat": 4,
  "vscode": {
   "interpreter": {
    "hash": "42c33f466a168730b22cefda1447d659631163f2e3796842da191639660330f9"
   }
  }
 },
 "nbformat": 4,
 "nbformat_minor": 2
}
