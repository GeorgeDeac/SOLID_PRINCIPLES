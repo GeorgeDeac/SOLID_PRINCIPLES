{
 "cells": [
  {
   "cell_type": "markdown",
   "metadata": {},
   "source": [
    "## Dependency inversion principle (DIP)\n",
    "High-level modules should not depend upon low-level modules. Both should depend upon abstractions.\n",
    "And abstractions should not depend on details. Details should depend upon abstractions."
   ]
  },
  {
   "cell_type": "markdown",
   "metadata": {},
   "source": [
    "### Bad example:"
   ]
  },
  {
   "cell_type": "code",
   "execution_count": null,
   "metadata": {},
   "outputs": [],
   "source": [
    "# Low level component\n",
    "class XMLHttpRequest:\n",
    "    pass\n",
    "\n",
    "# High level component\n",
    "class HttpService(XMLHttpRequest):\n",
    "    # Open request, send request, etc...\n",
    "    pass\n",
    "\n",
    "class Http:\n",
    "    def __init__(self, xml_http_service: HttpService):\n",
    "        self.xml_http_service = xml_http_service\n",
    "    \n",
    "    def get(self, url: str, options):\n",
    "        self.xml_http_service.request(url, \"GET\")\n",
    "\n",
    "    def post(self, url: str, options):\n",
    "        self.xml_http_service.request(url, \"POST\")"
   ]
  },
  {
   "cell_type": "markdown",
   "metadata": {},
   "source": [
    "This design violates DIP: high level modules (HttpService) should not depend on low-level modules (XMLHttpRequestService), they (in this case HttpService) should depend upon its abstraction"
   ]
  },
  {
   "cell_type": "markdown",
   "metadata": {},
   "source": [
    "### Good example:"
   ]
  },
  {
   "cell_type": "code",
   "execution_count": null,
   "metadata": {},
   "outputs": [],
   "source": [
    "# Low level component\n",
    "class XMLHttpRequest:\n",
    "    pass\n",
    "\n",
    "class Connection:\n",
    "    def request(self, url: str, options):\n",
    "        raise NotImplementedError\n",
    "    \n",
    "class Http:\n",
    "    def __init__(self, http_connection: Connection):\n",
    "        self.http_connection = http_connection\n",
    "    \n",
    "    def get(self, url: str, options):\n",
    "        self.http_connection.request(url, 'GET')\n",
    "\n",
    "    def post(self, url: str, options):\n",
    "        self.http_connection.request(url, 'POST')\n",
    "        \n",
    "class HttpService(Connection):\n",
    "    xhr = XMLHttpRequest()\n",
    "\n",
    "    def request(self, url: str, options):\n",
    "        self.xhr.open()\n",
    "        self.xhr.send()"
   ]
  },
  {
   "cell_type": "markdown",
   "metadata": {},
   "source": [
    "The Http class should care less about the HttpService we are using, therefore we create a Connection interface with a request method, and we pass this as an argument type to our Http class. Next we reimplement the HttpService class to implement the Connection interface, instead of directly extending the XMLHttpRequest low level class."
   ]
  },
  {
   "cell_type": "code",
   "execution_count": null,
   "metadata": {},
   "outputs": [],
   "source": [
    "class TestHttpService(Connection):\n",
    "    def request(self, url: str, options):\n",
    "        pass"
   ]
  },
  {
   "cell_type": "markdown",
   "metadata": {},
   "source": [
    "Now we can further create many more http Connection types and pass it to our Http class.\n",
    "\n",
    "Now both the high level modules and low level modules depend on abstractions.\n",
    "\n",
    "DIP will now also force us not to violate the Liskov Substitution Principle when we want to implement new connection types."
   ]
  }
 ],
 "metadata": {
  "kernelspec": {
   "display_name": "Python 3.9.12 ('base')",
   "language": "python",
   "name": "python3"
  },
  "language_info": {
   "name": "python",
   "version": "3.9.12"
  },
  "orig_nbformat": 4,
  "vscode": {
   "interpreter": {
    "hash": "42c33f466a168730b22cefda1447d659631163f2e3796842da191639660330f9"
   }
  }
 },
 "nbformat": 4,
 "nbformat_minor": 2
}
