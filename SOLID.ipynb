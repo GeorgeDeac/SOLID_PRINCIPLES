{
 "cells": [
  {
   "cell_type": "markdown",
   "metadata": {},
   "source": [
    "## Single responsability principle (SRP)\n",
    "\n",
    "A class should have only one responsability.  If a class has more than one,\n",
    "it becomes coupled and a change to one responsibility results to a modification of\n",
    "the other responsibility."
   ]
  },
  {
   "cell_type": "markdown",
   "metadata": {},
   "source": [
    "### Bad example:"
   ]
  },
  {
   "cell_type": "code",
   "execution_count": 2,
   "metadata": {},
   "outputs": [],
   "source": [
    "class Animal:\n",
    "    def __init__(self, name: str):\n",
    "        self.name = name\n",
    "    \n",
    "    def get_name(self) -> str:\n",
    "        return self.name\n",
    "\n",
    "    def save(self, animal):\n",
    "        pass"
   ]
  },
  {
   "cell_type": "markdown",
   "metadata": {},
   "source": [
    "Single responsability states that classes should have one responsibility, but here we can distinguish\n",
    "two responsibilities: animal database management (save method) and animal properties management (constructor and get_name)."
   ]
  },
  {
   "cell_type": "markdown",
   "metadata": {},
   "source": [
    "### Better solution:\n",
    "Separating responsabilities"
   ]
  },
  {
   "cell_type": "code",
   "execution_count": null,
   "metadata": {},
   "outputs": [],
   "source": [
    "class Animal: \n",
    "    def __init__(self, name: str):\n",
    "        self.name = name\n",
    "    \n",
    "    def get_name(self) -> str:\n",
    "        return self.name\n",
    "\n",
    "\n",
    "class AnimalDB: \n",
    "    def get_animal(self, id) -> Animal:\n",
    "        pass\n",
    "\n",
    "    def save(self, animal: Animal):\n",
    "        pass"
   ]
  },
  {
   "cell_type": "markdown",
   "metadata": {},
   "source": [
    "The downside to this implementation is that now we'll have to deal with two classes when initializing"
   ]
  },
  {
   "cell_type": "markdown",
   "metadata": {},
   "source": [
    "### Good solution:\n",
    "Using the \"facade\" design pattern and making the Animal class a facade for AnimalDB. Here the animal class will be at the same time an interface for AnimalDB."
   ]
  },
  {
   "cell_type": "code",
   "execution_count": null,
   "metadata": {},
   "outputs": [],
   "source": [
    "class AnimalDB:  \n",
    "    def get_animal(self, id) -> Animal:\n",
    "        pass\n",
    "\n",
    "    def save(self, animal: Animal):\n",
    "        pass\n",
    "\n",
    "\n",
    "class Animal:\n",
    "    def __init__(self, name: str):\n",
    "        self.name = name\n",
    "        self.db = AnimalDB()\n",
    "\n",
    "    def get_name(self) -> str:\n",
    "        return self.name\n",
    "\n",
    "    def get(self, id):\n",
    "        return self.db.get_animal(id)\n",
    "    \n",
    "    def save(self):\n",
    "        self.db.save(animal=self)"
   ]
  },
  {
   "cell_type": "markdown",
   "metadata": {},
   "source": [
    "## Open closed principle (OCP)\n",
    "Classes should be designed to be open for extension, instead of modification."
   ]
  },
  {
   "cell_type": "markdown",
   "metadata": {},
   "source": [
    "### Bad example:"
   ]
  },
  {
   "cell_type": "code",
   "execution_count": null,
   "metadata": {},
   "outputs": [],
   "source": [
    "class Animal: \n",
    "    def __init__(self, name: str):\n",
    "        self.name = name\n",
    "    \n",
    "    def get_name(self) -> str:\n",
    "        return self.name\n",
    "\n",
    "\n",
    "def animal_sound(animals: list):\n",
    "    for animal in animals:\n",
    "        if animal.name == \"lion\":\n",
    "            print(\"Roar!\")\n",
    "        elif animal.name == \"mouse\":\n",
    "            print(\"Squeak!\")\n",
    "\n",
    "animals = [\n",
    "    Animal('lion'),\n",
    "    Animal('mouse')\n",
    "]\n",
    "\n",
    "animal_sound(animals)"
   ]
  },
  {
   "cell_type": "markdown",
   "metadata": {},
   "source": [
    "The function animal_sound() does not conform to the Open closed principle because\n",
    "it cannot be closed against newly implemented kinds of animals: if we add a new animal, \n",
    "we have to also modify the animal_sound function."
   ]
  },
  {
   "cell_type": "markdown",
   "metadata": {},
   "source": [
    "### Good example:"
   ]
  },
  {
   "cell_type": "code",
   "execution_count": null,
   "metadata": {},
   "outputs": [],
   "source": [
    "class Animal:\n",
    "    def __init__(self, name: str):\n",
    "        self.name = name\n",
    "    \n",
    "    def get_name(self) -> str:\n",
    "        return self.name\n",
    "\n",
    "    def make_sound(self):\n",
    "        pass\n",
    "\n",
    "\n",
    "class Lion(Animal):\n",
    "    def make_sound(self):\n",
    "        return \"Roar\"\n",
    "\n",
    "\n",
    "class Mouse(Animal):\n",
    "    def make_sound(self):\n",
    "        return \"Squeak\"\n",
    "\n",
    "\n",
    "class Pigeon(Animal):\n",
    "    def make_sound(self):\n",
    "        return \"Acoo\"\n",
    "\n",
    "def animal_sound(animals: list):\n",
    "    for animal in animals:\n",
    "        print(animal.make_sound())"
   ]
  },
  {
   "cell_type": "markdown",
   "metadata": {},
   "source": [
    "We attribute a virtual method to Animal for making sounds and make each new animal a separate class which inherits from Animal and implements make_sound"
   ]
  },
  {
   "cell_type": "markdown",
   "metadata": {},
   "source": [
    "## Liskov substitution principle (LSP)\n",
    "A sub class must be substitutable for its super class. \n",
    "A sub class must assume the place of its super class without errors.\n",
    "(For instance we should never have to safety check if a class isinstance)"
   ]
  },
  {
   "cell_type": "markdown",
   "metadata": {},
   "source": [
    "### Bad example:"
   ]
  },
  {
   "cell_type": "code",
   "execution_count": null,
   "metadata": {},
   "outputs": [],
   "source": [
    "class Animal:\n",
    "    def __init__(self, name: str):\n",
    "        self.name = name\n",
    "    \n",
    "    def get_name(self) -> str:\n",
    "        return self.name\n",
    "\n",
    "    def make_sound(self):\n",
    "        pass\n",
    "\n",
    "class Lion(Animal):\n",
    "    def make_sound(self):\n",
    "        return \"Roar\"\n",
    "\n",
    "\n",
    "class Mouse(Animal):\n",
    "    def make_sound(self):\n",
    "        return \"Squeak\"\n",
    "\n",
    "\n",
    "class Pigeon(Animal):\n",
    "    def make_sound(self):\n",
    "        return \"Acoo\"\n",
    "\n",
    "\n",
    "def lion_leg_count(animal):\n",
    "    return 4\n",
    "\n",
    "def mouse_leg_count(animal):\n",
    "    return 4\n",
    "\n",
    "def pigeon_leg_count(animal):\n",
    "    return 2\n",
    "\n",
    "\n",
    "def animal_leg_count(animals: list):\n",
    "    for animal in animals:\n",
    "        if isinstance(animal, Lion):\n",
    "            print(lion_leg_count(animal))\n",
    "        elif isinstance(animal, Mouse):\n",
    "            print(mouse_leg_count(animal))\n",
    "        elif isinstance(animal, Pigeon):\n",
    "            print(pigeon_leg_count(animal))\n",
    "            \n",
    "animals = [\n",
    "    Lion(\"lion\"),\n",
    "    Mouse(\"mouse\"),\n",
    "    Pigeon(\"pigeon\")\n",
    "]\n",
    "   \n",
    "animal_leg_count(animals)"
   ]
  },
  {
   "cell_type": "markdown",
   "metadata": {},
   "source": [
    "We have separate functions for each animal that don't have insight to what we pass,\n",
    "Therefore we have to separately check for each instance."
   ]
  },
  {
   "cell_type": "markdown",
   "metadata": {},
   "source": [
    "### Good example:"
   ]
  },
  {
   "cell_type": "code",
   "execution_count": null,
   "metadata": {},
   "outputs": [],
   "source": [
    "class Animal:\n",
    "    def __init__(self, name: str):\n",
    "        self.name = name\n",
    "    \n",
    "    def get_name(self) -> str:\n",
    "        return self.name\n",
    "\n",
    "    def make_sound(self):\n",
    "        pass\n",
    "    \n",
    "    def leg_count(self):\n",
    "        pass\n",
    "    \n",
    "\n",
    "class Lion(Animal):\n",
    "    def make_sound(self):\n",
    "        return \"Roar\"\n",
    "    \n",
    "    def leg_count(self):\n",
    "        return 4\n",
    "\n",
    "\n",
    "class Mouse(Animal):\n",
    "    def make_sound(self):\n",
    "        return \"Squeak\"\n",
    "    \n",
    "    def leg_count(self):\n",
    "        return 4\n",
    "\n",
    "\n",
    "class Pigeon(Animal):\n",
    "    def make_sound(self):\n",
    "        return \"Acoo\"\n",
    "\n",
    "    def leg_count(self):\n",
    "        return 2\n",
    "    \n",
    "\n",
    "def animal_leg_count(animals: list):\n",
    "    for animal in animals:\n",
    "        print(animal.leg_count())\n",
    " \n",
    "animals = [\n",
    "    Lion(\"lion\"),\n",
    "    Mouse(\"mouse\"),\n",
    "    Pigeon(\"pigeon\")\n",
    "]\n",
    "      \n",
    "animal_leg_count(animals)"
   ]
  },
  {
   "cell_type": "markdown",
   "metadata": {},
   "source": [
    "The animal_leg_count() function cares less about what type of Animal passed and it just\n",
    "calls the leg_count method of each animal."
   ]
  },
  {
   "cell_type": "markdown",
   "metadata": {},
   "source": [
    "## Interface segregation principle (ISP)\n",
    "Interfaces should be client specific. Classes should not implement methods they have no use for."
   ]
  },
  {
   "cell_type": "markdown",
   "metadata": {},
   "source": [
    "### Bad example:"
   ]
  },
  {
   "cell_type": "code",
   "execution_count": null,
   "metadata": {},
   "outputs": [],
   "source": [
    "class IShape:\n",
    "    def draw_square(self):\n",
    "        raise NotImplementedError\n",
    "    \n",
    "    def draw_rectangle(self):\n",
    "        raise NotImplementedError\n",
    "    \n",
    "    def draw_circle(self):\n",
    "        raise NotImplementedError\n",
    "\n",
    "\n",
    "class Circle(IShape):\n",
    "    def draw_square(self):\n",
    "        pass\n",
    "\n",
    "    def draw_rectangle(self):\n",
    "        pass\n",
    "    \n",
    "    def draw_circle(self):\n",
    "        pass\n",
    "\n",
    "\n",
    "class Square(IShape):\n",
    "    def draw_square(self):\n",
    "        pass\n",
    "\n",
    "    def draw_rectangle(self):\n",
    "        pass\n",
    "    \n",
    "    def draw_circle(self):\n",
    "        pass\n",
    "\n",
    "\n",
    "class Rectangle(IShape):\n",
    "    def draw_square(self):\n",
    "        pass\n",
    "\n",
    "    def draw_rectangle(self):\n",
    "        pass\n",
    "    \n",
    "    def draw_circle(self):\n",
    "        pass"
   ]
  },
  {
   "cell_type": "markdown",
   "metadata": {},
   "source": [
    "This interface draws squares, circles and rectangles. The classes Circle, Square, Rectangle implement the IShape interface, therefore all must define the methods for drawing the other shapes, which doesn't make sense. \n",
    "Although here it's obvious the interface shouldn't be that way, there could be some more abstract case with big interfaces where this isn't so clear."
   ]
  },
  {
   "cell_type": "markdown",
   "metadata": {},
   "source": [
    "### Good example:"
   ]
  },
  {
   "cell_type": "code",
   "execution_count": null,
   "metadata": {},
   "outputs": [],
   "source": [
    "class IShape:\n",
    "    def draw(self):\n",
    "        raise NotImplementedError\n",
    "\n",
    "class Circle(IShape):\n",
    "    def draw(self):\n",
    "        pass\n",
    "\n",
    "class Square(IShape):\n",
    "    def draw(self):\n",
    "        pass\n",
    "\n",
    "class Rectangle(IShape):\n",
    "    def draw(self):\n",
    "        pass"
   ]
  },
  {
   "cell_type": "markdown",
   "metadata": {},
   "source": [
    "We abstract the draw method, and pass the responsability of holding the information to each class which implements the IShape interface."
   ]
  },
  {
   "cell_type": "markdown",
   "metadata": {},
   "source": [
    "## Dependency inversion principle (DIP)\n",
    "High-level modules should not depend upon low-level modules. Both should depend upon abstractions.\n",
    "And abstractions should not depend on details. Details should depend upon abstractions."
   ]
  },
  {
   "cell_type": "code",
   "execution_count": null,
   "metadata": {},
   "outputs": [],
   "source": [
    "# Low level component\n",
    "class XMLHttpRequest:\n",
    "    pass\n",
    "\n",
    "# High level component\n",
    "class HttpService(XMLHttpRequest):\n",
    "    # Open request, send request, etc...\n",
    "    pass\n",
    "\n",
    "class Http:\n",
    "    def __init__(self, xml_http_service: HttpService):\n",
    "        self.xml_http_service = xml_http_service\n",
    "    \n",
    "    def get(self, url: str, options):\n",
    "        self.xml_http_service.request(url, \"GET\")\n",
    "\n",
    "    def post(self, url: str, options):\n",
    "        self.xml_http_service.request(url, \"POST\")"
   ]
  },
  {
   "cell_type": "markdown",
   "metadata": {},
   "source": [
    "This design violates DIP: high level modules (HttpService) should not depend on low-level modules (XMLHttpRequestService), they (in this case HttpService) should depend upon its abstraction"
   ]
  },
  {
   "cell_type": "code",
   "execution_count": null,
   "metadata": {},
   "outputs": [],
   "source": [
    "# Low level component\n",
    "class XMLHttpRequest:\n",
    "    pass\n",
    "\n",
    "class Connection:\n",
    "    def request(self, url: str, options):\n",
    "        raise NotImplementedError\n",
    "    \n",
    "class Http:\n",
    "    def __init__(self, http_connection: Connection):\n",
    "        self.http_connection = http_connection\n",
    "    \n",
    "    def get(self, url: str, options):\n",
    "        self.http_connection.request(url, 'GET')\n",
    "\n",
    "    def post(self, url: str, options):\n",
    "        self.http_connection.request(url, 'POST')\n",
    "        \n",
    "class HttpService(Connection):\n",
    "    xhr = XMLHttpRequest()\n",
    "\n",
    "    def request(self, url: str, options):\n",
    "        self.xhr.open()\n",
    "        self.xhr.send()"
   ]
  },
  {
   "cell_type": "markdown",
   "metadata": {},
   "source": [
    "The Http class should care less about the HttpService we are using, therefore we create a Connection interface with a request method, and we pass this as an argument type to our Http class. Next we reimplement the HttpService class to implement the Connection interface, instead of directly extending the XMLHttpRequest low level class."
   ]
  },
  {
   "cell_type": "code",
   "execution_count": null,
   "metadata": {},
   "outputs": [],
   "source": [
    "class TestHttpService(Connection):\n",
    "    def request(self, url: str, options):\n",
    "        pass"
   ]
  },
  {
   "cell_type": "markdown",
   "metadata": {},
   "source": [
    "Now we can further create many more http Connection types and pass it to our Http class."
   ]
  },
  {
   "cell_type": "markdown",
   "metadata": {},
   "source": [
    "Now both the high level modules and low level modules depend on abstractions.\n",
    "\n",
    "DIP will also force us not to violate the Liskov Substitution Principle when we want to implement new connection types."
   ]
  }
 ],
 "metadata": {
  "kernelspec": {
   "display_name": "Python 3.9.12 ('base')",
   "language": "python",
   "name": "python3"
  },
  "language_info": {
   "codemirror_mode": {
    "name": "ipython",
    "version": 3
   },
   "file_extension": ".py",
   "mimetype": "text/x-python",
   "name": "python",
   "nbconvert_exporter": "python",
   "pygments_lexer": "ipython3",
   "version": "3.9.12"
  },
  "orig_nbformat": 4,
  "vscode": {
   "interpreter": {
    "hash": "42c33f466a168730b22cefda1447d659631163f2e3796842da191639660330f9"
   }
  }
 },
 "nbformat": 4,
 "nbformat_minor": 2
}
